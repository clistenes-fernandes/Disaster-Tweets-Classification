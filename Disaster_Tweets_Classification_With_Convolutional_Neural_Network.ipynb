{
  "nbformat": 4,
  "nbformat_minor": 0,
  "metadata": {
    "colab": {
      "name": "Disaster Tweets Classification With Convolutional Neural Network.ipynb",
      "provenance": [],
      "collapsed_sections": [],
      "authorship_tag": "ABX9TyNjnS5p2KpdzyWcCQ/y1z7f"
    },
    "kernelspec": {
      "name": "python3",
      "display_name": "Python 3"
    }
  },
  "cells": [
    {
      "cell_type": "markdown",
      "metadata": {
        "id": "WsvI0uDaRC4Q",
        "colab_type": "text"
      },
      "source": [
        "## Section 1: Import Necessary Libraries"
      ]
    },
    {
      "cell_type": "code",
      "metadata": {
        "id": "1BQ0bcjNRLkf",
        "colab_type": "code",
        "outputId": "ca1c7733-5e40-4aec-a109-a86cccb7bcb5",
        "colab": {
          "base_uri": "https://localhost:8080/",
          "height": 72
        }
      },
      "source": [
        "import numpy as np\n",
        "import math\n",
        "import re # regular expression\n",
        "import pandas as pd\n",
        "from bs4 import BeautifulSoup #Text pre-processing\n",
        "from google.colab import drive\n",
        "import zipfile\n",
        "import seaborn as sns #Data visualization\n",
        "from string import digits, punctuation\n",
        "import spacy as sp\n",
        "import random\n",
        "import nltk\n",
        "from nltk.corpus import stopwords\n",
        "import matplotlib.pyplot as plt\n",
        "%tensorflow_version 2.x\n",
        "import tensorflow as tf"
      ],
      "execution_count": 1,
      "outputs": [
        {
          "output_type": "stream",
          "text": [
            "/usr/local/lib/python3.6/dist-packages/statsmodels/tools/_testing.py:19: FutureWarning: pandas.util.testing is deprecated. Use the functions in the public API at pandas.testing instead.\n",
            "  import pandas.util.testing as tm\n"
          ],
          "name": "stderr"
        }
      ]
    },
    {
      "cell_type": "code",
      "metadata": {
        "id": "ddijoV-YR346",
        "colab_type": "code",
        "colab": {}
      },
      "source": [
        "from tensorflow.keras import layers\n",
        "import tensorflow_datasets as tfds"
      ],
      "execution_count": 0,
      "outputs": []
    },
    {
      "cell_type": "code",
      "metadata": {
        "id": "7o316CL7Ix2a",
        "colab_type": "code",
        "outputId": "147df978-8d2d-4296-d57a-d160d46ac250",
        "colab": {
          "base_uri": "https://localhost:8080/",
          "height": 194
        }
      },
      "source": [
        "nltk.download('punkt')\n",
        "nltk.download('averaged_perceptron_tagger')\n",
        "nltk.download('universal_tagset')\n",
        "nltk.download('stopwords')"
      ],
      "execution_count": 3,
      "outputs": [
        {
          "output_type": "stream",
          "text": [
            "[nltk_data] Downloading package punkt to /root/nltk_data...\n",
            "[nltk_data]   Unzipping tokenizers/punkt.zip.\n",
            "[nltk_data] Downloading package averaged_perceptron_tagger to\n",
            "[nltk_data]     /root/nltk_data...\n",
            "[nltk_data]   Unzipping taggers/averaged_perceptron_tagger.zip.\n",
            "[nltk_data] Downloading package universal_tagset to /root/nltk_data...\n",
            "[nltk_data]   Unzipping taggers/universal_tagset.zip.\n",
            "[nltk_data] Downloading package stopwords to /root/nltk_data...\n",
            "[nltk_data]   Unzipping corpora/stopwords.zip.\n"
          ],
          "name": "stdout"
        },
        {
          "output_type": "execute_result",
          "data": {
            "text/plain": [
              "True"
            ]
          },
          "metadata": {
            "tags": []
          },
          "execution_count": 3
        }
      ]
    },
    {
      "cell_type": "markdown",
      "metadata": {
        "id": "nxjPbhbFSB6I",
        "colab_type": "text"
      },
      "source": [
        "## Section 2: Pre processing"
      ]
    },
    {
      "cell_type": "markdown",
      "metadata": {
        "id": "R4_WtdiCSOBc",
        "colab_type": "text"
      },
      "source": [
        "#### Dataset upload"
      ]
    },
    {
      "cell_type": "code",
      "metadata": {
        "id": "OqN0vMpSSVWV",
        "colab_type": "code",
        "outputId": "49e8d6db-5942-4f3b-f050-afbd6f46e98e",
        "colab": {
          "base_uri": "https://localhost:8080/",
          "height": 125
        }
      },
      "source": [
        "# get dataset from google drive\n",
        "drive.mount('/content/drive')"
      ],
      "execution_count": 4,
      "outputs": [
        {
          "output_type": "stream",
          "text": [
            "Go to this URL in a browser: https://accounts.google.com/o/oauth2/auth?client_id=947318989803-6bn6qk8qdgf4n4g3pfee6491hc0brc4i.apps.googleusercontent.com&redirect_uri=urn%3aietf%3awg%3aoauth%3a2.0%3aoob&response_type=code&scope=email%20https%3a%2f%2fwww.googleapis.com%2fauth%2fdocs.test%20https%3a%2f%2fwww.googleapis.com%2fauth%2fdrive%20https%3a%2f%2fwww.googleapis.com%2fauth%2fdrive.photos.readonly%20https%3a%2f%2fwww.googleapis.com%2fauth%2fpeopleapi.readonly\n",
            "\n",
            "Enter your authorization code:\n",
            "··········\n",
            "Mounted at /content/drive\n"
          ],
          "name": "stdout"
        }
      ]
    },
    {
      "cell_type": "code",
      "metadata": {
        "id": "iBJ7nJC0pl-H",
        "colab_type": "code",
        "colab": {}
      },
      "source": [
        "#Extract the file in the root folder of Colab\n",
        "path = '/content/drive/My Drive/nlp-getting-started.zip'\n",
        "zip_object = zipfile.ZipFile(file=path, mode='r')\n",
        "zip_object.extractall('./')\n",
        "zip_object.close()"
      ],
      "execution_count": 0,
      "outputs": []
    },
    {
      "cell_type": "code",
      "metadata": {
        "id": "e0bO-oaLRXXI",
        "colab_type": "code",
        "colab": {}
      },
      "source": [
        "path_to_file = '/content/train.csv'\n",
        "train = pd.read_csv('/content/train.csv')"
      ],
      "execution_count": 0,
      "outputs": []
    },
    {
      "cell_type": "code",
      "metadata": {
        "id": "FsicjbTFUC7Y",
        "colab_type": "code",
        "outputId": "d7573a51-281b-4099-956e-dd852b7b8ea2",
        "colab": {
          "base_uri": "https://localhost:8080/",
          "height": 137
        }
      },
      "source": [
        "train.head(3)"
      ],
      "execution_count": 7,
      "outputs": [
        {
          "output_type": "execute_result",
          "data": {
            "text/html": [
              "<div>\n",
              "<style scoped>\n",
              "    .dataframe tbody tr th:only-of-type {\n",
              "        vertical-align: middle;\n",
              "    }\n",
              "\n",
              "    .dataframe tbody tr th {\n",
              "        vertical-align: top;\n",
              "    }\n",
              "\n",
              "    .dataframe thead th {\n",
              "        text-align: right;\n",
              "    }\n",
              "</style>\n",
              "<table border=\"1\" class=\"dataframe\">\n",
              "  <thead>\n",
              "    <tr style=\"text-align: right;\">\n",
              "      <th></th>\n",
              "      <th>id</th>\n",
              "      <th>keyword</th>\n",
              "      <th>location</th>\n",
              "      <th>text</th>\n",
              "      <th>target</th>\n",
              "    </tr>\n",
              "  </thead>\n",
              "  <tbody>\n",
              "    <tr>\n",
              "      <th>0</th>\n",
              "      <td>1</td>\n",
              "      <td>NaN</td>\n",
              "      <td>NaN</td>\n",
              "      <td>Our Deeds are the Reason of this #earthquake M...</td>\n",
              "      <td>1</td>\n",
              "    </tr>\n",
              "    <tr>\n",
              "      <th>1</th>\n",
              "      <td>4</td>\n",
              "      <td>NaN</td>\n",
              "      <td>NaN</td>\n",
              "      <td>Forest fire near La Ronge Sask. Canada</td>\n",
              "      <td>1</td>\n",
              "    </tr>\n",
              "    <tr>\n",
              "      <th>2</th>\n",
              "      <td>5</td>\n",
              "      <td>NaN</td>\n",
              "      <td>NaN</td>\n",
              "      <td>All residents asked to 'shelter in place' are ...</td>\n",
              "      <td>1</td>\n",
              "    </tr>\n",
              "  </tbody>\n",
              "</table>\n",
              "</div>"
            ],
            "text/plain": [
              "   id keyword  ...                                               text target\n",
              "0   1     NaN  ...  Our Deeds are the Reason of this #earthquake M...      1\n",
              "1   4     NaN  ...             Forest fire near La Ronge Sask. Canada      1\n",
              "2   5     NaN  ...  All residents asked to 'shelter in place' are ...      1\n",
              "\n",
              "[3 rows x 5 columns]"
            ]
          },
          "metadata": {
            "tags": []
          },
          "execution_count": 7
        }
      ]
    },
    {
      "cell_type": "code",
      "metadata": {
        "id": "vxS35r5nq2Qn",
        "colab_type": "code",
        "outputId": "ea055030-82b4-4a17-9922-ac3f18f78c5f",
        "colab": {
          "base_uri": "https://localhost:8080/",
          "height": 282
        }
      },
      "source": [
        "target_counts = train.target.value_counts()\n",
        "sns.barplot(target_counts.index, target_counts)"
      ],
      "execution_count": 8,
      "outputs": [
        {
          "output_type": "execute_result",
          "data": {
            "text/plain": [
              "<matplotlib.axes._subplots.AxesSubplot at 0x7f0574d41240>"
            ]
          },
          "metadata": {
            "tags": []
          },
          "execution_count": 8
        },
        {
          "output_type": "display_data",
          "data": {
            "image/png": "[encoded data removed]",
            "text/plain": [
              "<Figure size 432x288 with 1 Axes>"
            ]
          },
          "metadata": {
            "tags": [],
            "needs_background": "light"
          }
        }
      ]
    },
    {
      "cell_type": "markdown",
      "metadata": {
        "id": "d0x8tIo_rYq_",
        "colab_type": "text"
      },
      "source": [
        "There are two classes in the dataset, the class 0 (non-disaster) and the class 1 (disaster). The class distribution has more non-disaster tweets."
      ]
    },
    {
      "cell_type": "markdown",
      "metadata": {
        "id": "QZHfJ_aitYXL",
        "colab_type": "text"
      },
      "source": [
        "#### Basic analysis on the dataset, in character, word and sentence level."
      ]
    },
    {
      "cell_type": "markdown",
      "metadata": {
        "id": "LBuBE8J0tqZx",
        "colab_type": "text"
      },
      "source": [
        "Number of characters in a true and false disaster tweets"
      ]
    },
    {
      "cell_type": "code",
      "metadata": {
        "id": "OPlw6lfjtXfM",
        "colab_type": "code",
        "outputId": "6bed2cfc-5404-40a7-fcc5-9c5d21f6d77c",
        "colab": {
          "base_uri": "https://localhost:8080/",
          "height": 355
        }
      },
      "source": [
        "fig,(ax1,ax2)=plt.subplots(1,2,figsize=(10,5))\n",
        "train_length = train[train['target']==0]['text'].str.len()\n",
        "ax1.hist(train_length, color='blue')\n",
        "ax1.set_title('Non Disaster Tweets')\n",
        "train_length = train[train['target']==1]['text'].str.len()\n",
        "ax2.hist(train_length, color='red')\n",
        "ax2.set_title('Disaster Tweets')\n",
        "fig.suptitle('Number of characters in a sentence')\n",
        "plt.show()"
      ],
      "execution_count": 9,
      "outputs": [
        {
          "output_type": "display_data",
          "data": {
            "image/png": "[encoded data removed]",
            "text/plain": [
              "<Figure size 720x360 with 2 Axes>"
            ]
          },
          "metadata": {
            "tags": [],
            "needs_background": "light"
          }
        }
      ]
    },
    {
      "cell_type": "markdown",
      "metadata": {
        "id": "0P1ZPXZhHfgg",
        "colab_type": "text"
      },
      "source": [
        "The number of characters distribution of both are similar. The most common character length among both are 120 to 140. "
      ]
    },
    {
      "cell_type": "markdown",
      "metadata": {
        "id": "PAVIiGRhJUQB",
        "colab_type": "text"
      },
      "source": [
        "Number of words in a sentence."
      ]
    },
    {
      "cell_type": "code",
      "metadata": {
        "id": "4QLygLnNJaOD",
        "colab_type": "code",
        "outputId": "6de4c602-f828-416c-fc6b-73b8b03dcdde",
        "colab": {
          "base_uri": "https://localhost:8080/",
          "height": 355
        }
      },
      "source": [
        "fig, (ax1, ax2) = plt.subplots(1,2, figsize=(10,5))\n",
        "train_length = train[train['target']==0]['text'].str.split().map(lambda x: len(x))\n",
        "ax1.hist(train_length, color='blue')\n",
        "ax1.set_title('Non Disaster Tweets')\n",
        "train_length = train[train['target']==1]['text'].str.split().map(lambda x:len(x))\n",
        "ax2.hist(train_length, color='red')\n",
        "ax2.set_title('Disaster Tweets')\n",
        "fig.suptitle('Number of words in sentences')\n",
        "plt.show()"
      ],
      "execution_count": 10,
      "outputs": [
        {
          "output_type": "display_data",
          "data": {
            "image/png": "[encoded data removed]",
            "text/plain": [
              "<Figure size 720x360 with 2 Axes>"
            ]
          },
          "metadata": {
            "tags": [],
            "needs_background": "light"
          }
        }
      ]
    },
    {
      "cell_type": "markdown",
      "metadata": {
        "id": "65b9rCc3yfAE",
        "colab_type": "text"
      },
      "source": [
        "#### Most Used Words\n",
        "verifying the 15 most used nouns and verbs in true disaster tweets"
      ]
    },
    {
      "cell_type": "code",
      "metadata": {
        "id": "Fd6ECjqI5Ru5",
        "colab_type": "code",
        "colab": {}
      },
      "source": [
        "disaster_texts = train[train['target']==1]['text']"
      ],
      "execution_count": 0,
      "outputs": []
    },
    {
      "cell_type": "code",
      "metadata": {
        "id": "i-xjYdgq_tTf",
        "colab_type": "code",
        "outputId": "2a7a20c2-701b-4591-847b-49ae1f303597",
        "colab": {
          "base_uri": "https://localhost:8080/",
          "height": 34
        }
      },
      "source": [
        "disaster_texts[7609]"
      ],
      "execution_count": 12,
      "outputs": [
        {
          "output_type": "execute_result",
          "data": {
            "text/plain": [
              "'@aria_ahrary @TheTawniest The out of control wild fires in California even in the Northern part of the state. Very troubling.'"
            ]
          },
          "metadata": {
            "tags": []
          },
          "execution_count": 12
        }
      ]
    },
    {
      "cell_type": "markdown",
      "metadata": {
        "id": "wYHO3HiI2VCw",
        "colab_type": "text"
      },
      "source": [
        "Stop Words are used to eliminate unimportant words, allowing applications to focus on the important words instead. First it'll be removed the stop words from tweets, then clean them (remove usernames, URLs, ponctuation), tokenize and tag each word. Then plot the most 15 used words in the true disaster tweets."
      ]
    },
    {
      "cell_type": "code",
      "metadata": {
        "id": "7wo-Q5gS0c04",
        "colab_type": "code",
        "colab": {}
      },
      "source": [
        "stop_words = stopwords.words('english')"
      ],
      "execution_count": 0,
      "outputs": []
    },
    {
      "cell_type": "code",
      "metadata": {
        "id": "1nx0jbPGsVrV",
        "colab_type": "code",
        "outputId": "384700db-c1bd-4822-eb5c-5b89be6f33ab",
        "colab": {
          "base_uri": "https://localhost:8080/",
          "height": 34
        }
      },
      "source": [
        "punctuation"
      ],
      "execution_count": 14,
      "outputs": [
        {
          "output_type": "execute_result",
          "data": {
            "text/plain": [
              "'!\"#$%&\\'()*+,-./:;<=>?@[\\\\]^_`{|}~'"
            ]
          },
          "metadata": {
            "tags": []
          },
          "execution_count": 14
        }
      ]
    },
    {
      "cell_type": "code",
      "metadata": {
        "id": "r6dC0-TF5UAn",
        "colab_type": "code",
        "colab": {}
      },
      "source": [
        "def stop_words_removal(tweet):\n",
        "  tweet = tweet.lower()\n",
        "  document = nltk.tokenize.word_tokenize(tweet)\n",
        "  words = []\n",
        "  new_sentence = ''\n",
        "  \n",
        "  for token in document:\n",
        "    words.append(token)\n",
        "  words = [word for word in words if word not in stop_words and word not in punctuation]\n",
        "\n",
        "  for w in words:\n",
        "    new_sentence = new_sentence+ w + ' '\n",
        "  return new_sentence"
      ],
      "execution_count": 0,
      "outputs": []
    },
    {
      "cell_type": "code",
      "metadata": {
        "id": "WBZ7i7zUzJUr",
        "colab_type": "code",
        "outputId": "a1a23af3-6e4d-4078-e835-4ce80764af62",
        "colab": {
          "base_uri": "https://localhost:8080/",
          "height": 34
        }
      },
      "source": [
        "stop_words_removal('@TheTawniest The is out of control wild fires in California even in the Northern part of the state. Very troubling.')"
      ],
      "execution_count": 16,
      "outputs": [
        {
          "output_type": "execute_result",
          "data": {
            "text/plain": [
              "'thetawniest control wild fires california even northern part state troubling '"
            ]
          },
          "metadata": {
            "tags": []
          },
          "execution_count": 16
        }
      ]
    },
    {
      "cell_type": "code",
      "metadata": {
        "id": "x7hZKAzB_LFb",
        "colab_type": "code",
        "colab": {}
      },
      "source": [
        "def clean_tweets(tweet):\n",
        "  tweet = re.sub(r\"@[A-Za-z0-9]+\", ' ', tweet)#removing the username\n",
        "  tweet = BeautifulSoup(tweet, 'lxml').get_text()\n",
        "  tweet = re.sub(r\"https?://[A-Za-z0-9./]+\", ' ', tweet)#removing the URL\n",
        "  num_digits= str.maketrans('','',digits)\n",
        "  tweet= tweet.translate(num_digits)#remove digits\n",
        "  tweet = stop_words_removal(tweet)\n",
        "  tweet = re.sub(r\" +\", ' ', tweet)\n",
        "  tweet = tweet.strip()\n",
        "  return tweet"
      ],
      "execution_count": 0,
      "outputs": []
    },
    {
      "cell_type": "code",
      "metadata": {
        "id": "IZRzbZRD6NGx",
        "colab_type": "code",
        "outputId": "39cf0763-08e5-424d-c371-ecc4c7f977b7",
        "colab": {
          "base_uri": "https://localhost:8080/",
          "height": 34
        }
      },
      "source": [
        "clean_tweets('@TheTawniest The out of control wild - 3454640 fires in4 California even in the Northern part of the state. Very troubling.')"
      ],
      "execution_count": 18,
      "outputs": [
        {
          "output_type": "execute_result",
          "data": {
            "text/plain": [
              "'control wild fires california even northern part state troubling'"
            ]
          },
          "metadata": {
            "tags": []
          },
          "execution_count": 18
        }
      ]
    },
    {
      "cell_type": "code",
      "metadata": {
        "id": "VxpW6E9z8dZS",
        "colab_type": "code",
        "outputId": "6b197872-f894-44d5-cc02-3819591a9107",
        "colab": {
          "base_uri": "https://localhost:8080/",
          "height": 158
        }
      },
      "source": [
        "tokenized_disaster_text = [clean_tweets(text) for text in disaster_texts]\n",
        "tokenized_disaster_text = nltk.pos_tag_sents([nltk.word_tokenize(t) for t in tokenized_disaster_text], tagset='universal')\n",
        "tokenized_disaster_text[-1]"
      ],
      "execution_count": 19,
      "outputs": [
        {
          "output_type": "execute_result",
          "data": {
            "text/plain": [
              "[('latest', 'ADJ'),\n",
              " ('homes', 'NOUN'),\n",
              " ('razed', 'VERB'),\n",
              " ('northern', 'ADJ'),\n",
              " ('california', 'NOUN'),\n",
              " ('wildfire', 'NOUN'),\n",
              " ('abc', 'NOUN'),\n",
              " ('news', 'NOUN')]"
            ]
          },
          "metadata": {
            "tags": []
          },
          "execution_count": 19
        }
      ]
    },
    {
      "cell_type": "markdown",
      "metadata": {
        "id": "ouCXgZec1Swx",
        "colab_type": "text"
      },
      "source": [
        "Tags  are in tuples inside a list of lists. So, need to withdraw them from the lists"
      ]
    },
    {
      "cell_type": "code",
      "metadata": {
        "id": "TbYfNvB0Q4u-",
        "colab_type": "code",
        "outputId": "550542a8-d606-414a-a4b2-f29033f06c86",
        "colab": {
          "base_uri": "https://localhost:8080/",
          "height": 105
        }
      },
      "source": [
        "tags = []\n",
        "for t in tokenized_disaster_text:\n",
        "  tags.extend(t)\n",
        "tags[-5:]"
      ],
      "execution_count": 20,
      "outputs": [
        {
          "output_type": "execute_result",
          "data": {
            "text/plain": [
              "[('northern', 'ADJ'),\n",
              " ('california', 'NOUN'),\n",
              " ('wildfire', 'NOUN'),\n",
              " ('abc', 'NOUN'),\n",
              " ('news', 'NOUN')]"
            ]
          },
          "metadata": {
            "tags": []
          },
          "execution_count": 20
        }
      ]
    },
    {
      "cell_type": "code",
      "metadata": {
        "id": "Q9YNTMnJRvaE",
        "colab_type": "code",
        "colab": {}
      },
      "source": [
        "nouns = nltk.FreqDist(word for (word, tag) in tags if tag in ['NOUN'] and word !='/' and len(word)>3)\n",
        "verbs = nltk.FreqDist(word for (word, tag) in tags if tag in ['VERB'] and len(word)>1)"
      ],
      "execution_count": 0,
      "outputs": []
    },
    {
      "cell_type": "code",
      "metadata": {
        "id": "zhbBNrZGfss1",
        "colab_type": "code",
        "colab": {}
      },
      "source": [
        "most_common_nouns = nouns.most_common(15)\n",
        "x_noun_axis = [t[0] for t in most_common_nouns]\n",
        "y_noun_axis = [t[1] for t in most_common_nouns]"
      ],
      "execution_count": 0,
      "outputs": []
    },
    {
      "cell_type": "code",
      "metadata": {
        "id": "Zd76UuZNp7qN",
        "colab_type": "code",
        "colab": {}
      },
      "source": [
        "most_common_verbs = verbs.most_common(15)\n",
        "x_verb_axis = [t[0] for t in most_common_verbs]\n",
        "y_verb_axis = [t[1] for t in most_common_verbs]"
      ],
      "execution_count": 0,
      "outputs": []
    },
    {
      "cell_type": "code",
      "metadata": {
        "id": "MkwMDjW-XNUk",
        "colab_type": "code",
        "outputId": "aca887ab-00af-4de8-bac5-5c8956f11db2",
        "colab": {
          "base_uri": "https://localhost:8080/",
          "height": 664
        }
      },
      "source": [
        "plt.rcdefaults()\n",
        "fig = plt.figure(figsize=(15, 7))\n",
        "fig.add_subplot(2,1,1)\n",
        "plt.bar(x_noun_axis, y_noun_axis)\n",
        "plt.xlabel('Nouns')\n",
        "plt.ylabel('Frequency')\n",
        "plt.title('Most used nouns for disaster tweets', pad=15.0)\n",
        "fig.add_subplot(2,1,2)\n",
        "plt.bar(x_verb_axis, y_verb_axis, color='red')\n",
        "plt.xlabel('Verbs')\n",
        "plt.ylabel('Frequency')\n",
        "plt.title('Most used verbs for disaster tweets', pad=15.0)\n",
        "fig.tight_layout(h_pad=3.0)"
      ],
      "execution_count": 24,
      "outputs": [
        {
          "output_type": "display_data",
          "data": {
            "image/png": "[encoded data removed]",
            "text/plain": [
              "<Figure size 1500x700 with 2 Axes>"
            ]
          },
          "metadata": {
            "tags": []
          }
        }
      ]
    },
    {
      "cell_type": "markdown",
      "metadata": {
        "id": "FeR8mqP_hvWs",
        "colab_type": "text"
      },
      "source": [
        "On the first bar plot the three most used noun in the true tragedie sentences was 'fire', followed by 'news' and 'disasters'. With low difference between the frequency of the first to the second and second to third.\n",
        "\n",
        "On the second bar plot the three most used verbs were 'kill', 'burn' and 'confirm'. The difference between the first and second was almost two times, and the second and third had low difference."
      ]
    },
    {
      "cell_type": "markdown",
      "metadata": {
        "id": "KxZNdioSIJDZ",
        "colab_type": "text"
      },
      "source": [
        "#### Tokenization and Padding"
      ]
    },
    {
      "cell_type": "code",
      "metadata": {
        "id": "VusSxQaxbhS1",
        "colab_type": "code",
        "colab": {}
      },
      "source": [
        "texts = train.loc[:]['text'].values\n",
        "classes = train.loc[:]['target'].values"
      ],
      "execution_count": 0,
      "outputs": []
    },
    {
      "cell_type": "code",
      "metadata": {
        "id": "fHYmYLttK1bg",
        "colab_type": "code",
        "colab": {}
      },
      "source": [
        "cleaned_tweets = [clean_tweets(t) for t in texts]"
      ],
      "execution_count": 0,
      "outputs": []
    },
    {
      "cell_type": "code",
      "metadata": {
        "id": "5gz70xeyIHb3",
        "colab_type": "code",
        "colab": {}
      },
      "source": [
        "tokenizer = tfds.features.text.SubwordTextEncoder.build_from_corpus(cleaned_tweets, target_vocab_size=2**15)"
      ],
      "execution_count": 0,
      "outputs": []
    },
    {
      "cell_type": "code",
      "metadata": {
        "id": "cIJ0Nz_zKkvC",
        "colab_type": "code",
        "outputId": "54be20ee-0b08-459c-f06f-42c858fd2495",
        "colab": {
          "base_uri": "https://localhost:8080/",
          "height": 34
        }
      },
      "source": [
        "tokenizer.vocab_size"
      ],
      "execution_count": 28,
      "outputs": [
        {
          "output_type": "execute_result",
          "data": {
            "text/plain": [
              "17585"
            ]
          },
          "metadata": {
            "tags": []
          },
          "execution_count": 28
        }
      ]
    },
    {
      "cell_type": "code",
      "metadata": {
        "id": "nu1MkeFyMfsL",
        "colab_type": "code",
        "outputId": "389aaa35-5e00-4ef4-be09-9bab6b942402",
        "colab": {
          "base_uri": "https://localhost:8080/",
          "height": 34
        }
      },
      "source": [
        "ids = tokenizer.encode('I am happy')\n",
        "ids"
      ],
      "execution_count": 29,
      "outputs": [
        {
          "output_type": "execute_result",
          "data": {
            "text/plain": [
              "[17402, 17361, 16729, 3307]"
            ]
          },
          "metadata": {
            "tags": []
          },
          "execution_count": 29
        }
      ]
    },
    {
      "cell_type": "code",
      "metadata": {
        "id": "2QYuT5_jMta0",
        "colab_type": "code",
        "outputId": "0de7a277-991c-4367-82a4-267078562929",
        "colab": {
          "base_uri": "https://localhost:8080/",
          "height": 34
        }
      },
      "source": [
        "tokenizer.decode([17402, 17361, 16729, 3307])"
      ],
      "execution_count": 30,
      "outputs": [
        {
          "output_type": "execute_result",
          "data": {
            "text/plain": [
              "'I am happy'"
            ]
          },
          "metadata": {
            "tags": []
          },
          "execution_count": 30
        }
      ]
    },
    {
      "cell_type": "code",
      "metadata": {
        "id": "3IKqykcZNXUm",
        "colab_type": "code",
        "outputId": "27a28e09-1823-4789-8d71-2621dc5eb682",
        "colab": {
          "base_uri": "https://localhost:8080/",
          "height": 34
        }
      },
      "source": [
        "tokenized_train_sentences = [tokenizer.encode(s) for s in cleaned_tweets]\n",
        "tokenized_train_sentences[random.randint(0, len(tokenized_train_sentences) -1)]"
      ],
      "execution_count": 31,
      "outputs": [
        {
          "output_type": "execute_result",
          "data": {
            "text/plain": [
              "[578, 163, 1643, 4743, 71, 2132, 6832]"
            ]
          },
          "metadata": {
            "tags": []
          },
          "execution_count": 31
        }
      ]
    },
    {
      "cell_type": "markdown",
      "metadata": {
        "id": "IP1wjOmRM46-",
        "colab_type": "text"
      },
      "source": [
        "Pad the sentences with '0', so sentences can have all the same size"
      ]
    },
    {
      "cell_type": "code",
      "metadata": {
        "id": "sQcjpdm0M4Ie",
        "colab_type": "code",
        "outputId": "6ff0f1d0-cf92-406e-cdc9-68354ee87541",
        "colab": {
          "base_uri": "https://localhost:8080/",
          "height": 34
        }
      },
      "source": [
        "maxlen = max([len(sentence) for sentence in tokenized_train_sentences])\n",
        "maxlen"
      ],
      "execution_count": 32,
      "outputs": [
        {
          "output_type": "execute_result",
          "data": {
            "text/plain": [
              "29"
            ]
          },
          "metadata": {
            "tags": []
          },
          "execution_count": 32
        }
      ]
    },
    {
      "cell_type": "code",
      "metadata": {
        "id": "c5c6mF-OMxtn",
        "colab_type": "code",
        "outputId": "3474415f-fc64-4b48-f859-5651f0170887",
        "colab": {
          "base_uri": "https://localhost:8080/",
          "height": 87
        }
      },
      "source": [
        "input_tweets = tf.keras.preprocessing.sequence.pad_sequences(tokenized_train_sentences, maxlen, padding='post', value=0)\n",
        "input_tweets[random.randint(0,len(input_tweets)-1)]"
      ],
      "execution_count": 33,
      "outputs": [
        {
          "output_type": "execute_result",
          "data": {
            "text/plain": [
              "array([ 1735,   586, 10006,  2702,     0,     0,     0,     0,     0,\n",
              "           0,     0,     0,     0,     0,     0,     0,     0,     0,\n",
              "           0,     0,     0,     0,     0,     0,     0,     0,     0,\n",
              "           0,     0], dtype=int32)"
            ]
          },
          "metadata": {
            "tags": []
          },
          "execution_count": 33
        }
      ]
    },
    {
      "cell_type": "code",
      "metadata": {
        "id": "P7NIaWNwcYfQ",
        "colab_type": "code",
        "colab": {}
      },
      "source": [
        "from sklearn.model_selection import train_test_split\n",
        "train_text, test_text, train_classes, test_classes = train_test_split(input_tweets, classes, test_size=0.15, stratify=classes)"
      ],
      "execution_count": 0,
      "outputs": []
    },
    {
      "cell_type": "code",
      "metadata": {
        "id": "zKuuoMTfOVBW",
        "colab_type": "code",
        "outputId": "41dd5508-17bb-4bbd-e714-3259cf0d198e",
        "colab": {
          "base_uri": "https://localhost:8080/",
          "height": 52
        }
      },
      "source": [
        "print('Length train texts {} and Length train classes {}'.format(len(train_text), len(train_classes)))\n",
        "print('Length test texts {} and Length test classes {}'.format(len(test_text), len(test_classes)))"
      ],
      "execution_count": 35,
      "outputs": [
        {
          "output_type": "stream",
          "text": [
            "Length train texts 6471 and Length train classes 6471\n",
            "Length test texts 1142 and Length test classes 1142\n"
          ],
          "name": "stdout"
        }
      ]
    },
    {
      "cell_type": "markdown",
      "metadata": {
        "id": "WxK24F6YsPm1",
        "colab_type": "text"
      },
      "source": [
        "## Section 3: Model"
      ]
    },
    {
      "cell_type": "markdown",
      "metadata": {
        "id": "DO1cc6iWJWYr",
        "colab_type": "text"
      },
      "source": [
        "The model used in this implementation was inspired by the paper \"Convolutional Recurrent Neural Networks for Text Classification\" (Wang et al. 2019) that can be accessed [here](https://ieeexplore.ieee.org/document/8852406). The difference from this model to the one showed in the paper is that we used GRU instead of LSTM.  \n",
        "\n",
        "![Model Architecture](https://drive.google.com/uc?id=1AxzyiyyPrA4yjeigUBJgTV_usM4VJN4W\n",
        ")\n",
        "\n",
        "\n",
        "\n",
        "\n"
      ]
    },
    {
      "cell_type": "markdown",
      "metadata": {
        "id": "NmyTVnB3x6fT",
        "colab_type": "text"
      },
      "source": [
        "![Convolutional Architecture](https://drive.google.com/uc?id=1I0wq4W--hH5KKqAdIOGcQbYfXx76Cp2u\n",
        ")"
      ]
    },
    {
      "cell_type": "code",
      "metadata": {
        "id": "8QHXc2wNehQz",
        "colab_type": "code",
        "colab": {}
      },
      "source": [
        "class CGNN(tf.keras.Model):\n",
        "  def __init__(self, vocab_size, units=512, emb_dim=128, nb_filters=50, dropout=0.1, name=\"cgnn\"):\n",
        "    super(CGNN, self).__init__(name=name)\n",
        "    self.embedding= layers.Embedding(vocab_size, emb_dim)\n",
        "    \n",
        "    self.bigram= layers.Conv1D(filters=nb_filters, kernel_size=2, padding='same', activation='relu')\n",
        "    self.trigram= layers.Conv1D(filters=nb_filters, kernel_size=3, padding='same', activation='relu')\n",
        "    self.fourgram = layers.Conv1D(filters=nb_filters, kernel_size=4, padding='same', activation='relu')\n",
        "    \n",
        "    self.pool = layers.GlobalMaxPool1D()\n",
        "\n",
        "    self.dropout = layers.Dropout(dropout)\n",
        "\n",
        "    self.dense1 = layers.Dense(units=(units/2))\n",
        "    self.dense2 = layers.Dense(units=units)\n",
        "\n",
        "    #Bidirectional GRU\n",
        "    self.forward_GRU = layers.GRU(units)\n",
        "    self.backward_GRU = layers.GRU(units, go_backwards=True)\n",
        "    self.bidirectional = layers.Bidirectional(self.forward_GRU, backward_layer=self.backward_GRU)\n",
        "\n",
        "    #Dense Layers\n",
        "    self.dense = layers.Dense(units=units)\n",
        "    self.last_dense = layers.Dense(1, activation='sigmoid')\n",
        "\n",
        "  def call(self, inputs, training):\n",
        "\n",
        "    x = self.embedding(inputs)\n",
        "\n",
        "    x1 = self.bigram(x)\n",
        "    x1 = self.pool(x1)\n",
        "\n",
        "    x2 = self.trigram(x)\n",
        "    x2 = self.pool(x2)\n",
        "\n",
        "    x3 = self.fourgram(x)\n",
        "    x3 = self.pool(x3)\n",
        "    \n",
        "    merged = tf.concat([x1, x2, x3], -1)\n",
        "    merged = tf.expand_dims(merged, 1)\n",
        "\n",
        "    #Bidirectional GRU\n",
        "    bidirec = self.bidirectional(merged)\n",
        "\n",
        "    #Dense Layers\n",
        "    output = self.dense(bidirec)\n",
        "    output = self.last_dense(output)\n",
        "    return output"
      ],
      "execution_count": 0,
      "outputs": []
    },
    {
      "cell_type": "code",
      "metadata": {
        "id": "J0ht9Z2yrG_W",
        "colab_type": "code",
        "colab": {}
      },
      "source": [
        "vocab_size = tokenizer.vocab_size\n",
        "emb_dim = 1024\n",
        "nb_filters = 256\n",
        "ffn_units = 1024\n",
        "batch_size=64\n",
        "dropout_rate = 0.2\n",
        "nb_epochs = 15"
      ],
      "execution_count": 0,
      "outputs": []
    },
    {
      "cell_type": "code",
      "metadata": {
        "id": "swc5_IF8r8yy",
        "colab_type": "code",
        "colab": {}
      },
      "source": [
        "cgnn = CGNN(vocab_size=vocab_size, emb_dim=emb_dim,\n",
        "            nb_filters=nb_filters, units=ffn_units,\n",
        "            dropout=dropout_rate)"
      ],
      "execution_count": 0,
      "outputs": []
    },
    {
      "cell_type": "code",
      "metadata": {
        "id": "SJqXxzKqsoGd",
        "colab_type": "code",
        "colab": {}
      },
      "source": [
        "cgnn.compile(loss='binary_crossentropy', optimizer='adam', metrics=['accuracy'])"
      ],
      "execution_count": 0,
      "outputs": []
    },
    {
      "cell_type": "code",
      "metadata": {
        "id": "ujVuhf5RsvfY",
        "colab_type": "code",
        "outputId": "60831b30-e61b-43e5-d12c-0ab6ea17bf5a",
        "colab": {
          "base_uri": "https://localhost:8080/",
          "height": 34
        }
      },
      "source": [
        "checkpoint_path = '/content/drive/My Drive/Convolutional_Tweets_Checkpoints'\n",
        "ckpt = tf.train.Checkpoint(cgnn=cgnn)\n",
        "ckpt_manager = tf.train.CheckpointManager(ckpt, checkpoint_path, max_to_keep=5)\n",
        "if ckpt_manager.latest_checkpoint:\n",
        "  ckpt.restore(ckpt_manager.latest_checkpoint)\n",
        "  print('Latest checkpoint restored')"
      ],
      "execution_count": 40,
      "outputs": [
        {
          "output_type": "execute_result",
          "data": {
            "text/plain": [
              "\"if ckpt_manager.latest_checkpoint:\\n  ckpt.restore(ckpt_manager.latest_checkpoint)\\n  print('Latest checkpoint restored')\""
            ]
          },
          "metadata": {
            "tags": []
          },
          "execution_count": 40
        }
      ]
    },
    {
      "cell_type": "code",
      "metadata": {
        "id": "wdQXEp4Is4iE",
        "colab_type": "code",
        "outputId": "d30a9a32-db19-441a-b7e3-29cc7149e6d5",
        "colab": {
          "base_uri": "https://localhost:8080/",
          "height": 567
        }
      },
      "source": [
        "history = cgnn.fit(input_tweets, \n",
        "                   classes,\n",
        "                   batch_size=batch_size,\n",
        "                   epochs = nb_epochs,\n",
        "                   verbose = 1)\n",
        "ckpt_manager.save()"
      ],
      "execution_count": 41,
      "outputs": [
        {
          "output_type": "stream",
          "text": [
            "Epoch 1/15\n",
            "119/119 [==============================] - 119s 1000ms/step - loss: 0.5620 - accuracy: 0.7130\n",
            "Epoch 2/15\n",
            "119/119 [==============================] - 118s 993ms/step - loss: 0.2313 - accuracy: 0.9146\n",
            "Epoch 3/15\n",
            "119/119 [==============================] - 119s 999ms/step - loss: 0.0869 - accuracy: 0.9716\n",
            "Epoch 4/15\n",
            "119/119 [==============================] - 119s 997ms/step - loss: 0.0510 - accuracy: 0.9779\n",
            "Epoch 5/15\n",
            "119/119 [==============================] - 119s 1s/step - loss: 0.0372 - accuracy: 0.9815\n",
            "Epoch 6/15\n",
            "119/119 [==============================] - 120s 1s/step - loss: 0.0353 - accuracy: 0.9825\n",
            "Epoch 7/15\n",
            "119/119 [==============================] - 123s 1s/step - loss: 0.0335 - accuracy: 0.9817\n",
            "Epoch 8/15\n",
            "119/119 [==============================] - 122s 1s/step - loss: 0.0311 - accuracy: 0.9823\n",
            "Epoch 9/15\n",
            "119/119 [==============================] - 123s 1s/step - loss: 0.0305 - accuracy: 0.9825\n",
            "Epoch 10/15\n",
            "119/119 [==============================] - 122s 1s/step - loss: 0.0295 - accuracy: 0.9840\n",
            "Epoch 11/15\n",
            "119/119 [==============================] - 120s 1s/step - loss: 0.0287 - accuracy: 0.9846\n",
            "Epoch 12/15\n",
            "119/119 [==============================] - 126s 1s/step - loss: 0.0292 - accuracy: 0.9850\n",
            "Epoch 13/15\n",
            "119/119 [==============================] - 121s 1s/step - loss: 0.0281 - accuracy: 0.9852\n",
            "Epoch 14/15\n",
            "119/119 [==============================] - 120s 1s/step - loss: 0.0276 - accuracy: 0.9852\n",
            "Epoch 15/15\n",
            "119/119 [==============================] - 119s 999ms/step - loss: 0.0272 - accuracy: 0.9850\n"
          ],
          "name": "stdout"
        },
        {
          "output_type": "execute_result",
          "data": {
            "text/plain": [
              "'/content/drive/My Drive/Convolutional_Tweets_Checkpoints/ckpt-1'"
            ]
          },
          "metadata": {
            "tags": []
          },
          "execution_count": 41
        }
      ]
    },
    {
      "cell_type": "code",
      "metadata": {
        "id": "0Rr-PW6QMirh",
        "colab_type": "code",
        "outputId": "6a7da633-f39e-4225-9d2d-ca3681dada05",
        "colab": {
          "base_uri": "https://localhost:8080/",
          "height": 52
        }
      },
      "source": [
        "results = cgnn.evaluate(test_text, test_classes, batch_size=batch_size)\n",
        "print(results)"
      ],
      "execution_count": 42,
      "outputs": [
        {
          "output_type": "stream",
          "text": [
            "18/18 [==============================] - 2s 122ms/step - loss: 0.0235 - accuracy: 0.9860\n",
            "[0.02352426014840603, 0.985989511013031]\n"
          ],
          "name": "stdout"
        }
      ]
    },
    {
      "cell_type": "code",
      "metadata": {
        "id": "JO33lU4PVg3L",
        "colab_type": "code",
        "colab": {}
      },
      "source": [
        "classes_pred_test = cgnn.predict(test_text)"
      ],
      "execution_count": 0,
      "outputs": []
    },
    {
      "cell_type": "code",
      "metadata": {
        "id": "EUfJAIhbVrWT",
        "colab_type": "code",
        "outputId": "4e75e9ea-66ce-4215-9ec0-93c93f5790d5",
        "colab": {
          "base_uri": "https://localhost:8080/",
          "height": 141
        }
      },
      "source": [
        "classes_pred_test"
      ],
      "execution_count": 44,
      "outputs": [
        {
          "output_type": "execute_result",
          "data": {
            "text/plain": [
              "array([[1.8331277e-06],\n",
              "       [6.3651787e-06],\n",
              "       [9.8201632e-04],\n",
              "       ...,\n",
              "       [1.7931814e-05],\n",
              "       [1.0491113e-05],\n",
              "       [3.3508464e-08]], dtype=float32)"
            ]
          },
          "metadata": {
            "tags": []
          },
          "execution_count": 44
        }
      ]
    },
    {
      "cell_type": "code",
      "metadata": {
        "id": "9ZnZw0d0WIq3",
        "colab_type": "code",
        "colab": {}
      },
      "source": [
        "classes_pred_test = (classes_pred_test>0.5)"
      ],
      "execution_count": 0,
      "outputs": []
    },
    {
      "cell_type": "code",
      "metadata": {
        "id": "So7PMkIBVtsc",
        "colab_type": "code",
        "outputId": "0a75a749-e5f3-41ec-aef5-7820275c4116",
        "colab": {
          "base_uri": "https://localhost:8080/",
          "height": 52
        }
      },
      "source": [
        "from sklearn.metrics import confusion_matrix\n",
        "cm = confusion_matrix(test_classes, classes_pred_test)\n",
        "cm"
      ],
      "execution_count": 46,
      "outputs": [
        {
          "output_type": "execute_result",
          "data": {
            "text/plain": [
              "array([[648,   3],\n",
              "       [ 13, 478]])"
            ]
          },
          "metadata": {
            "tags": []
          },
          "execution_count": 46
        }
      ]
    },
    {
      "cell_type": "code",
      "metadata": {
        "id": "0HuOB7y5V8dk",
        "colab_type": "code",
        "outputId": "b13fd441-5ee8-4292-9625-c056f1b3662e",
        "colab": {
          "base_uri": "https://localhost:8080/",
          "height": 447
        }
      },
      "source": [
        "# Confusion Matrix\n",
        "sns.heatmap(cm, annot=True)"
      ],
      "execution_count": 47,
      "outputs": [
        {
          "output_type": "execute_result",
          "data": {
            "text/plain": [
              "<matplotlib.axes._subplots.AxesSubplot at 0x7f05654ead30>"
            ]
          },
          "metadata": {
            "tags": []
          },
          "execution_count": 47
        },
        {
          "output_type": "display_data",
          "data": {
            "image/png": "[encoded data removed]",
            "text/plain": [
              "<Figure size 640x480 with 2 Axes>"
            ]
          },
          "metadata": {
            "tags": []
          }
        }
      ]
    },
    {
      "cell_type": "markdown",
      "metadata": {
        "id": "zO8Hex0Yg8od",
        "colab_type": "text"
      },
      "source": [
        "The results was better than expected as it had only 16 wrong classifications, 3 false-negative and 13 false-positive classifications."
      ]
    },
    {
      "cell_type": "code",
      "metadata": {
        "id": "jEq45tL_hV-m",
        "colab_type": "code",
        "colab": {}
      },
      "source": [
        ""
      ],
      "execution_count": 0,
      "outputs": []
    }
  ]
}